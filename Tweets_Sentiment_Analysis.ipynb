{
  "cells": [
    {
      "cell_type": "markdown",
      "metadata": {
        "id": "view-in-github",
        "colab_type": "text"
      },
      "source": [
        "<a href=\"https://colab.research.google.com/github/naveenk-DS/twitter_sentiment_app.py/blob/main.py/Tweets_Sentiment_Analysis.ipynb\" target=\"_parent\"><img src=\"https://colab.research.google.com/assets/colab-badge.svg\" alt=\"Open In Colab\"/></a>"
      ]
    },
    {
      "cell_type": "code",
      "execution_count": null,
      "id": "46f30fee-fffd-46a5-8490-a6d740112af4",
      "metadata": {
        "id": "46f30fee-fffd-46a5-8490-a6d740112af4",
        "outputId": "4a2e832e-c3c9-4d0a-9da5-27f0ec827164"
      },
      "outputs": [
        {
          "name": "stdout",
          "output_type": "stream",
          "text": [
            "Looking in indexes: https://download.pytorch.org/whl/cull7\n",
            "Requirement already satisfied: torch in c:\\users\\akila\\anaconda3\\envs\\gpu_env\\lib\\site-packages (2.4.1)\n",
            "Requirement already satisfied: torchvision in c:\\users\\akila\\anaconda3\\envs\\gpu_env\\lib\\site-packages (0.20.0)\n",
            "Requirement already satisfied: torchaudio in c:\\users\\akila\\anaconda3\\envs\\gpu_env\\lib\\site-packages (2.4.1)\n",
            "Requirement already satisfied: filelock in c:\\users\\akila\\anaconda3\\envs\\gpu_env\\lib\\site-packages (from torch) (3.13.1)\n",
            "Requirement already satisfied: typing-extensions>=4.8.0 in c:\\users\\akila\\anaconda3\\envs\\gpu_env\\lib\\site-packages (from torch) (4.11.0)\n",
            "Requirement already satisfied: sympy in c:\\users\\akila\\anaconda3\\envs\\gpu_env\\lib\\site-packages (from torch) (1.13.3)\n",
            "Requirement already satisfied: networkx in c:\\users\\akila\\anaconda3\\envs\\gpu_env\\lib\\site-packages (from torch) (3.1)\n",
            "Requirement already satisfied: jinja2 in c:\\users\\akila\\anaconda3\\envs\\gpu_env\\lib\\site-packages (from torch) (3.1.4)\n",
            "INFO: pip is looking at multiple versions of torch to determine which version is compatible with other requirements. This could take a while.\n"
          ]
        },
        {
          "name": "stderr",
          "output_type": "stream",
          "text": [
            "ERROR: Could not find a version that satisfies the requirement fsspec (from torch) (from versions: none)\n",
            "ERROR: No matching distribution found for fsspec\n"
          ]
        }
      ],
      "source": [
        "!pip install torch torchvision torchaudio --index-url https://download.pytorch.org/whl/cull7"
      ]
    },
    {
      "cell_type": "code",
      "execution_count": null,
      "id": "c70086d1-b17b-4d56-b963-aba19aca1d22",
      "metadata": {
        "id": "c70086d1-b17b-4d56-b963-aba19aca1d22",
        "outputId": "05cfe713-c95b-4c6f-ca68-063080ae2629"
      },
      "outputs": [
        {
          "data": {
            "text/html": [
              "<div>\n",
              "<style scoped>\n",
              "    .dataframe tbody tr th:only-of-type {\n",
              "        vertical-align: middle;\n",
              "    }\n",
              "\n",
              "    .dataframe tbody tr th {\n",
              "        vertical-align: top;\n",
              "    }\n",
              "\n",
              "    .dataframe thead th {\n",
              "        text-align: right;\n",
              "    }\n",
              "</style>\n",
              "<table border=\"1\" class=\"dataframe\">\n",
              "  <thead>\n",
              "    <tr style=\"text-align: right;\">\n",
              "      <th></th>\n",
              "      <th>2401</th>\n",
              "      <th>Borderlands</th>\n",
              "      <th>Positive</th>\n",
              "      <th>im getting on borderlands and i will murder you all ,</th>\n",
              "    </tr>\n",
              "  </thead>\n",
              "  <tbody>\n",
              "    <tr>\n",
              "      <th>0</th>\n",
              "      <td>2401</td>\n",
              "      <td>Borderlands</td>\n",
              "      <td>Positive</td>\n",
              "      <td>I am coming to the borders and I will kill you...</td>\n",
              "    </tr>\n",
              "    <tr>\n",
              "      <th>1</th>\n",
              "      <td>2401</td>\n",
              "      <td>Borderlands</td>\n",
              "      <td>Positive</td>\n",
              "      <td>im getting on borderlands and i will kill you ...</td>\n",
              "    </tr>\n",
              "    <tr>\n",
              "      <th>2</th>\n",
              "      <td>2401</td>\n",
              "      <td>Borderlands</td>\n",
              "      <td>Positive</td>\n",
              "      <td>im coming on borderlands and i will murder you...</td>\n",
              "    </tr>\n",
              "    <tr>\n",
              "      <th>3</th>\n",
              "      <td>2401</td>\n",
              "      <td>Borderlands</td>\n",
              "      <td>Positive</td>\n",
              "      <td>im getting on borderlands 2 and i will murder ...</td>\n",
              "    </tr>\n",
              "    <tr>\n",
              "      <th>4</th>\n",
              "      <td>2401</td>\n",
              "      <td>Borderlands</td>\n",
              "      <td>Positive</td>\n",
              "      <td>im getting into borderlands and i can murder y...</td>\n",
              "    </tr>\n",
              "  </tbody>\n",
              "</table>\n",
              "</div>"
            ],
            "text/plain": [
              "   2401  Borderlands  Positive  \\\n",
              "0  2401  Borderlands  Positive   \n",
              "1  2401  Borderlands  Positive   \n",
              "2  2401  Borderlands  Positive   \n",
              "3  2401  Borderlands  Positive   \n",
              "4  2401  Borderlands  Positive   \n",
              "\n",
              "  im getting on borderlands and i will murder you all ,  \n",
              "0  I am coming to the borders and I will kill you...     \n",
              "1  im getting on borderlands and i will kill you ...     \n",
              "2  im coming on borderlands and i will murder you...     \n",
              "3  im getting on borderlands 2 and i will murder ...     \n",
              "4  im getting into borderlands and i can murder y...     "
            ]
          },
          "execution_count": 1,
          "metadata": {},
          "output_type": "execute_result"
        }
      ],
      "source": [
        "url= \"https://raw.githubusercontent.com/GuviMentor88/Training-Datasets/refs/heads/main/twitter_training.csv\"\n",
        "import streamlit as st\n",
        "import pandas as pd\n",
        "df=pd.read_csv(url)\n",
        "\n",
        "df.head()"
      ]
    },
    {
      "cell_type": "code",
      "execution_count": null,
      "id": "69735653-850a-45c0-9b36-a3506babd8be",
      "metadata": {
        "id": "69735653-850a-45c0-9b36-a3506babd8be",
        "outputId": "d6754156-fdbb-4a1f-a430-642c58c9ffcc"
      },
      "outputs": [
        {
          "name": "stdout",
          "output_type": "stream",
          "text": [
            "       Tweet_id     Location    Review  \\\n",
            "0          2401  Borderlands  Positive   \n",
            "1          2401  Borderlands  Positive   \n",
            "2          2401  Borderlands  Positive   \n",
            "3          2401  Borderlands  Positive   \n",
            "4          2401  Borderlands  Positive   \n",
            "...         ...          ...       ...   \n",
            "74676      9200       Nvidia  Positive   \n",
            "74677      9200       Nvidia  Positive   \n",
            "74678      9200       Nvidia  Positive   \n",
            "74679      9200       Nvidia  Positive   \n",
            "74680      9200       Nvidia  Positive   \n",
            "\n",
            "                                                  Tweets  \n",
            "0      I am coming to the borders and I will kill you...  \n",
            "1      im getting on borderlands and i will kill you ...  \n",
            "2      im coming on borderlands and i will murder you...  \n",
            "3      im getting on borderlands 2 and i will murder ...  \n",
            "4      im getting into borderlands and i can murder y...  \n",
            "...                                                  ...  \n",
            "74676  Just realized that the Windows partition of my...  \n",
            "74677  Just realized that my Mac window partition is ...  \n",
            "74678  Just realized the windows partition of my Mac ...  \n",
            "74679  Just realized between the windows partition of...  \n",
            "74680  Just like the windows partition of my Mac is l...  \n",
            "\n",
            "[74681 rows x 4 columns]\n"
          ]
        }
      ],
      "source": [
        "# Assigning column names\n",
        "df.columns = ['Tweet_id', 'Location', 'Review', 'Tweets']\n",
        "print(df)"
      ]
    },
    {
      "cell_type": "code",
      "execution_count": null,
      "id": "f2326285-5445-46be-a498-9124b2a244ae",
      "metadata": {
        "id": "f2326285-5445-46be-a498-9124b2a244ae",
        "outputId": "d7ac949b-8a33-4e89-fe54-06b5601ec4f7"
      },
      "outputs": [
        {
          "data": {
            "text/plain": [
              "(74681, 4)"
            ]
          },
          "execution_count": 3,
          "metadata": {},
          "output_type": "execute_result"
        }
      ],
      "source": [
        "df.shape"
      ]
    },
    {
      "cell_type": "code",
      "execution_count": null,
      "id": "b5a8b1c2-f7b7-4fe8-8239-f53bf85fd415",
      "metadata": {
        "id": "b5a8b1c2-f7b7-4fe8-8239-f53bf85fd415",
        "outputId": "054f1172-4921-48ff-f315-9f1510f63dde"
      },
      "outputs": [
        {
          "name": "stdout",
          "output_type": "stream",
          "text": [
            "<class 'pandas.core.frame.DataFrame'>\n",
            "RangeIndex: 74681 entries, 0 to 74680\n",
            "Data columns (total 4 columns):\n",
            " #   Column    Non-Null Count  Dtype \n",
            "---  ------    --------------  ----- \n",
            " 0   Tweet_id  74681 non-null  int64 \n",
            " 1   Location  74681 non-null  object\n",
            " 2   Review    74681 non-null  object\n",
            " 3   Tweets    73995 non-null  object\n",
            "dtypes: int64(1), object(3)\n",
            "memory usage: 2.3+ MB\n"
          ]
        }
      ],
      "source": [
        "df.info()"
      ]
    },
    {
      "cell_type": "code",
      "execution_count": null,
      "id": "61b45b43-d83a-4104-bc49-58ed6d2c6551",
      "metadata": {
        "id": "61b45b43-d83a-4104-bc49-58ed6d2c6551",
        "outputId": "e6f8c353-d388-46fb-a64b-494d8c5f001c"
      },
      "outputs": [
        {
          "data": {
            "text/plain": [
              "Tweet_id      0\n",
              "Location      0\n",
              "Review        0\n",
              "Tweets      686\n",
              "dtype: int64"
            ]
          },
          "execution_count": 5,
          "metadata": {},
          "output_type": "execute_result"
        }
      ],
      "source": [
        "df.isnull().sum()"
      ]
    },
    {
      "cell_type": "code",
      "execution_count": null,
      "id": "94e54211-2384-45de-afee-bf4b0b7ab6b5",
      "metadata": {
        "id": "94e54211-2384-45de-afee-bf4b0b7ab6b5",
        "outputId": "2d2482e0-bc7b-4c84-8cca-f60d82f16e96"
      },
      "outputs": [
        {
          "data": {
            "text/plain": [
              "2700"
            ]
          },
          "execution_count": 6,
          "metadata": {},
          "output_type": "execute_result"
        }
      ],
      "source": [
        "#duplicate\n",
        "df.duplicated().sum()"
      ]
    },
    {
      "cell_type": "code",
      "execution_count": null,
      "id": "1d940c28-99ca-4827-8b25-4ae03177daa9",
      "metadata": {
        "id": "1d940c28-99ca-4827-8b25-4ae03177daa9"
      },
      "outputs": [],
      "source": [
        "df.drop_duplicates(inplace=True)\n",
        "df.dropna(inplace=True)"
      ]
    },
    {
      "cell_type": "code",
      "execution_count": null,
      "id": "d37df42e-5b19-42b6-a290-e395e8fe181c",
      "metadata": {
        "id": "d37df42e-5b19-42b6-a290-e395e8fe181c"
      },
      "outputs": [],
      "source": [
        "df.drop(columns=['Tweet_id', 'Location'], inplace=True)"
      ]
    },
    {
      "cell_type": "code",
      "execution_count": null,
      "id": "8983052b-e53c-4ad6-a320-453787ff108e",
      "metadata": {
        "id": "8983052b-e53c-4ad6-a320-453787ff108e"
      },
      "outputs": [],
      "source": [
        "# Replace \"Irrelevant\" with \"Neutral\"\n",
        "df['Review'] = df['Review'].replace('Irrelevant', 'Neutral')\n",
        "\n",
        "# Label Encoding\n",
        "sentiment_mapping = {'Positive': 1, 'Negative': 2, 'Neutral': 0}\n",
        "df['Review'] = df['Review'].map(sentiment_mapping)"
      ]
    },
    {
      "cell_type": "code",
      "execution_count": null,
      "id": "be2fdaf8-4cb7-4b7f-9144-1ac9d59a3067",
      "metadata": {
        "id": "be2fdaf8-4cb7-4b7f-9144-1ac9d59a3067",
        "outputId": "66aa372b-37b1-4989-ba8b-ad9511dadc16"
      },
      "outputs": [
        {
          "data": {
            "image/png": "[encoded data removed]",
            "text/plain": [
              "<Figure size 640x480 with 1 Axes>"
            ]
          },
          "metadata": {},
          "output_type": "display_data"
        }
      ],
      "source": [
        "from matplotlib import pyplot as plt\n",
        "import seaborn as sns\n",
        "df.groupby('Review').size().plot(kind='barh', color=sns.palettes.mpl_palette('Dark2'))\n",
        "plt.gca().spines[['top', 'right',]].set_visible(False)"
      ]
    },
    {
      "cell_type": "code",
      "execution_count": null,
      "id": "91e7e29e-444e-4c06-860a-11a6cf2d72cf",
      "metadata": {
        "id": "91e7e29e-444e-4c06-860a-11a6cf2d72cf"
      },
      "outputs": [],
      "source": [
        "df.to_csv(r\"E:\\UDHAYA\\Final_Project\\Cleaned_Dataset\\Cleaned_Tweets_dataset.csv\", index=False)"
      ]
    },
    {
      "cell_type": "code",
      "execution_count": null,
      "id": "47d67b75-68ab-4c10-be1d-91eacc757567",
      "metadata": {
        "id": "47d67b75-68ab-4c10-be1d-91eacc757567",
        "outputId": "8a70e26d-8b0f-4f35-ab33-2f8d2e795218"
      },
      "outputs": [
        {
          "name": "stdout",
          "output_type": "stream",
          "text": [
            "Requirement already satisfied: torch in c:\\users\\akila\\anaconda3\\envs\\gpu_env\\lib\\site-packages (2.4.1)\n",
            "Requirement already satisfied: transformers in c:\\users\\akila\\anaconda3\\envs\\gpu_env\\lib\\site-packages (4.46.3)\n",
            "Requirement already satisfied: datasets in c:\\users\\akila\\anaconda3\\envs\\gpu_env\\lib\\site-packages (3.1.0)\n",
            "Requirement already satisfied: scikit-learn in c:\\users\\akila\\anaconda3\\envs\\gpu_env\\lib\\site-packages (1.3.2)\n",
            "Requirement already satisfied: filelock in c:\\users\\akila\\anaconda3\\envs\\gpu_env\\lib\\site-packages (from torch) (3.13.1)\n",
            "Requirement already satisfied: typing-extensions>=4.8.0 in c:\\users\\akila\\anaconda3\\envs\\gpu_env\\lib\\site-packages (from torch) (4.11.0)\n",
            "Requirement already satisfied: sympy in c:\\users\\akila\\anaconda3\\envs\\gpu_env\\lib\\site-packages (from torch) (1.13.3)\n",
            "Requirement already satisfied: networkx in c:\\users\\akila\\anaconda3\\envs\\gpu_env\\lib\\site-packages (from torch) (3.1)\n",
            "Requirement already satisfied: jinja2 in c:\\users\\akila\\anaconda3\\envs\\gpu_env\\lib\\site-packages (from torch) (3.1.4)\n",
            "Requirement already satisfied: fsspec in c:\\users\\akila\\anaconda3\\envs\\gpu_env\\lib\\site-packages (from torch) (2024.9.0)\n",
            "Requirement already satisfied: huggingface-hub<1.0,>=0.23.2 in c:\\users\\akila\\anaconda3\\envs\\gpu_env\\lib\\site-packages (from transformers) (0.27.1)\n",
            "Requirement already satisfied: numpy>=1.17 in c:\\users\\akila\\anaconda3\\envs\\gpu_env\\lib\\site-packages (from transformers) (1.24.3)\n",
            "Requirement already satisfied: packaging>=20.0 in c:\\users\\akila\\anaconda3\\envs\\gpu_env\\lib\\site-packages (from transformers) (24.1)\n",
            "Requirement already satisfied: pyyaml>=5.1 in c:\\users\\akila\\anaconda3\\envs\\gpu_env\\lib\\site-packages (from transformers) (6.0.2)\n",
            "Requirement already satisfied: regex!=2019.12.17 in c:\\users\\akila\\anaconda3\\envs\\gpu_env\\lib\\site-packages (from transformers) (2024.11.6)\n",
            "Requirement already satisfied: requests in c:\\users\\akila\\anaconda3\\envs\\gpu_env\\lib\\site-packages (from transformers) (2.32.3)\n",
            "Requirement already satisfied: tokenizers<0.21,>=0.20 in c:\\users\\akila\\anaconda3\\envs\\gpu_env\\lib\\site-packages (from transformers) (0.20.3)\n",
            "Requirement already satisfied: safetensors>=0.4.1 in c:\\users\\akila\\anaconda3\\envs\\gpu_env\\lib\\site-packages (from transformers) (0.5.2)\n",
            "Requirement already satisfied: tqdm>=4.27 in c:\\users\\akila\\anaconda3\\envs\\gpu_env\\lib\\site-packages (from transformers) (4.67.1)\n",
            "Requirement already satisfied: pyarrow>=15.0.0 in c:\\users\\akila\\anaconda3\\envs\\gpu_env\\lib\\site-packages (from datasets) (17.0.0)\n",
            "Requirement already satisfied: dill<0.3.9,>=0.3.0 in c:\\users\\akila\\anaconda3\\envs\\gpu_env\\lib\\site-packages (from datasets) (0.3.8)\n",
            "Requirement already satisfied: pandas in c:\\users\\akila\\anaconda3\\envs\\gpu_env\\lib\\site-packages (from datasets) (2.0.3)\n",
            "Requirement already satisfied: xxhash in c:\\users\\akila\\anaconda3\\envs\\gpu_env\\lib\\site-packages (from datasets) (3.5.0)\n",
            "Requirement already satisfied: multiprocess<0.70.17 in c:\\users\\akila\\anaconda3\\envs\\gpu_env\\lib\\site-packages (from datasets) (0.70.16)\n",
            "Requirement already satisfied: aiohttp in c:\\users\\akila\\anaconda3\\envs\\gpu_env\\lib\\site-packages (from datasets) (3.10.11)\n",
            "Requirement already satisfied: scipy>=1.5.0 in c:\\users\\akila\\anaconda3\\envs\\gpu_env\\lib\\site-packages (from scikit-learn) (1.10.1)\n",
            "Requirement already satisfied: joblib>=1.1.1 in c:\\users\\akila\\anaconda3\\envs\\gpu_env\\lib\\site-packages (from scikit-learn) (1.4.2)\n",
            "Requirement already satisfied: threadpoolctl>=2.0.0 in c:\\users\\akila\\anaconda3\\envs\\gpu_env\\lib\\site-packages (from scikit-learn) (3.5.0)\n",
            "Requirement already satisfied: aiohappyeyeballs>=2.3.0 in c:\\users\\akila\\anaconda3\\envs\\gpu_env\\lib\\site-packages (from aiohttp->datasets) (2.4.4)\n",
            "Requirement already satisfied: aiosignal>=1.1.2 in c:\\users\\akila\\anaconda3\\envs\\gpu_env\\lib\\site-packages (from aiohttp->datasets) (1.3.1)\n",
            "Requirement already satisfied: attrs>=17.3.0 in c:\\users\\akila\\anaconda3\\envs\\gpu_env\\lib\\site-packages (from aiohttp->datasets) (24.2.0)\n",
            "Requirement already satisfied: frozenlist>=1.1.1 in c:\\users\\akila\\anaconda3\\envs\\gpu_env\\lib\\site-packages (from aiohttp->datasets) (1.5.0)\n",
            "Requirement already satisfied: multidict<7.0,>=4.5 in c:\\users\\akila\\anaconda3\\envs\\gpu_env\\lib\\site-packages (from aiohttp->datasets) (6.1.0)\n",
            "Requirement already satisfied: yarl<2.0,>=1.12.0 in c:\\users\\akila\\anaconda3\\envs\\gpu_env\\lib\\site-packages (from aiohttp->datasets) (1.15.2)\n",
            "Requirement already satisfied: async-timeout<6.0,>=4.0 in c:\\users\\akila\\anaconda3\\envs\\gpu_env\\lib\\site-packages (from aiohttp->datasets) (5.0.1)\n",
            "Requirement already satisfied: charset-normalizer<4,>=2 in c:\\users\\akila\\anaconda3\\envs\\gpu_env\\lib\\site-packages (from requests->transformers) (3.3.2)\n",
            "Requirement already satisfied: idna<4,>=2.5 in c:\\users\\akila\\anaconda3\\envs\\gpu_env\\lib\\site-packages (from requests->transformers) (3.7)\n",
            "Requirement already satisfied: urllib3<3,>=1.21.1 in c:\\users\\akila\\anaconda3\\envs\\gpu_env\\lib\\site-packages (from requests->transformers) (2.2.3)\n",
            "Requirement already satisfied: certifi>=2017.4.17 in c:\\users\\akila\\anaconda3\\envs\\gpu_env\\lib\\site-packages (from requests->transformers) (2024.8.30)\n",
            "Requirement already satisfied: colorama in c:\\users\\akila\\anaconda3\\envs\\gpu_env\\lib\\site-packages (from tqdm>=4.27->transformers) (0.4.6)\n",
            "Requirement already satisfied: MarkupSafe>=2.0 in c:\\users\\akila\\anaconda3\\envs\\gpu_env\\lib\\site-packages (from jinja2->torch) (2.1.3)\n",
            "Requirement already satisfied: python-dateutil>=2.8.2 in c:\\users\\akila\\anaconda3\\envs\\gpu_env\\lib\\site-packages (from pandas->datasets) (2.9.0.post0)\n",
            "Requirement already satisfied: pytz>=2020.1 in c:\\users\\akila\\anaconda3\\envs\\gpu_env\\lib\\site-packages (from pandas->datasets) (2024.1)\n",
            "Requirement already satisfied: tzdata>=2022.1 in c:\\users\\akila\\anaconda3\\envs\\gpu_env\\lib\\site-packages (from pandas->datasets) (2023.3)\n",
            "Requirement already satisfied: mpmath<1.4,>=1.1.0 in c:\\users\\akila\\anaconda3\\envs\\gpu_env\\lib\\site-packages (from sympy->torch) (1.3.0)\n",
            "Requirement already satisfied: six>=1.5 in c:\\users\\akila\\anaconda3\\envs\\gpu_env\\lib\\site-packages (from python-dateutil>=2.8.2->pandas->datasets) (1.16.0)\n",
            "Requirement already satisfied: propcache>=0.2.0 in c:\\users\\akila\\anaconda3\\envs\\gpu_env\\lib\\site-packages (from yarl<2.0,>=1.12.0->aiohttp->datasets) (0.2.0)\n"
          ]
        }
      ],
      "source": [
        "!pip install torch transformers datasets torch scikit-learn"
      ]
    },
    {
      "cell_type": "code",
      "execution_count": null,
      "id": "e8cdee28-d4b7-4173-a787-0230a3f980f7",
      "metadata": {
        "id": "e8cdee28-d4b7-4173-a787-0230a3f980f7",
        "outputId": "48f39a76-544d-4dab-aaee-3bd017eb436a"
      },
      "outputs": [
        {
          "data": {
            "text/plain": [
              "True"
            ]
          },
          "execution_count": 13,
          "metadata": {},
          "output_type": "execute_result"
        }
      ],
      "source": [
        "import torch\n",
        "torch.cuda.is_available()"
      ]
    },
    {
      "cell_type": "code",
      "execution_count": null,
      "id": "16876990-38dd-4c3e-84dd-f490d79f63a6",
      "metadata": {
        "id": "16876990-38dd-4c3e-84dd-f490d79f63a6"
      },
      "outputs": [],
      "source": [
        "device = torch.device(\"cuda\")"
      ]
    },
    {
      "cell_type": "code",
      "execution_count": null,
      "id": "3d372f78-6ce2-46c4-8ee9-95276a960916",
      "metadata": {
        "id": "3d372f78-6ce2-46c4-8ee9-95276a960916"
      },
      "outputs": [],
      "source": [
        "import pandas as pd\n",
        "import torch\n",
        "from transformers import DistilBertTokenizer, DistilBertForSequenceClassification\n",
        "from transformers import Trainer, TrainingArguments, EarlyStoppingCallback\n",
        "from datasets import Dataset\n",
        "from sklearn.model_selection import train_test_split\n",
        "from sklearn.metrics import accuracy_score, precision_recall_fscore_support\n",
        "\n",
        "# Load your preprocessed dataset\n",
        "df = pd.read_csv(r\"E:\\UDHAYA\\Final_Project\\Cleaned_Dataset\\Cleaned_Tweets_dataset.csv\")  # Replace with actual file path\n",
        "\n",
        "# Train-test split\n",
        "train_texts, val_texts, train_labels, val_labels = train_test_split(\n",
        "    df['Tweets'], df['Review'], test_size=0.2, random_state=42\n",
        ")\n",
        "\n",
        "# Convert the 'text' column to strings before creating the Dataset\n",
        "train_texts = train_texts.astype(str)\n",
        "val_texts = val_texts.astype(str)\n",
        "# Convert to Dataset objects\n",
        "train_data = Dataset.from_dict({\"text\": train_texts, \"label\": train_labels})\n",
        "val_data = Dataset.from_dict({\"text\": val_texts, \"label\": val_labels})"
      ]
    },
    {
      "cell_type": "code",
      "execution_count": null,
      "id": "41606386-8dfc-4628-af4a-4615f31eb530",
      "metadata": {
        "colab": {
          "referenced_widgets": [
            "529e6f3cb082446eaf36c6f55f8e6688",
            "9c5c1bb38d7743b492268abe4c51182b"
          ]
        },
        "id": "41606386-8dfc-4628-af4a-4615f31eb530",
        "outputId": "e850d714-7288-4bc9-fdcf-226565301675"
      },
      "outputs": [
        {
          "data": {
            "application/vnd.jupyter.widget-view+json": {
              "model_id": "529e6f3cb082446eaf36c6f55f8e6688",
              "version_major": 2,
              "version_minor": 0
            },
            "text/plain": [
              "Map:   0%|          | 0/57324 [00:00<?, ? examples/s]"
            ]
          },
          "metadata": {},
          "output_type": "display_data"
        },
        {
          "data": {
            "application/vnd.jupyter.widget-view+json": {
              "model_id": "9c5c1bb38d7743b492268abe4c51182b",
              "version_major": 2,
              "version_minor": 0
            },
            "text/plain": [
              "Map:   0%|          | 0/14331 [00:00<?, ? examples/s]"
            ]
          },
          "metadata": {},
          "output_type": "display_data"
        }
      ],
      "source": [
        "tokenizer = DistilBertTokenizer.from_pretrained('distilbert-base-uncased')\n",
        "\n",
        "def tokenize_function(examples):\n",
        "    return tokenizer(examples['text'], padding=\"max_length\", truncation=True)\n",
        "\n",
        "train_data = train_data.map(tokenize_function, batched=True)\n",
        "val_data = val_data.map(tokenize_function, batched=True)\n",
        "\n",
        "# Remove unnecessary columns for training\n",
        "train_data = train_data.remove_columns(['text'])\n",
        "val_data = val_data.remove_columns(['text'])"
      ]
    },
    {
      "cell_type": "code",
      "execution_count": null,
      "id": "c78bc537-a95b-45f5-a5ee-32330e3dbf0c",
      "metadata": {
        "id": "c78bc537-a95b-45f5-a5ee-32330e3dbf0c",
        "outputId": "c4d6b033-7995-4eaa-9ee2-a42eafac85bd"
      },
      "outputs": [
        {
          "name": "stderr",
          "output_type": "stream",
          "text": [
            "Some weights of DistilBertForSequenceClassification were not initialized from the model checkpoint at distilbert-base-uncased and are newly initialized: ['classifier.bias', 'classifier.weight', 'pre_classifier.bias', 'pre_classifier.weight']\n",
            "You should probably TRAIN this model on a down-stream task to be able to use it for predictions and inference.\n"
          ]
        }
      ],
      "source": [
        "model = DistilBertForSequenceClassification.from_pretrained(\n",
        "    \"distilbert-base-uncased\",\n",
        "    num_labels=3  # Number of sentiment classes (Positive, Negative, Neutral)\n",
        ")\n",
        "model = model.to(device)"
      ]
    },
    {
      "cell_type": "code",
      "execution_count": null,
      "id": "664c202f-2ffb-41f5-871f-6eebf980b761",
      "metadata": {
        "id": "664c202f-2ffb-41f5-871f-6eebf980b761"
      },
      "outputs": [],
      "source": [
        "def compute_metrics(eval_pred):\n",
        "    logits, labels = eval_pred\n",
        "    predictions = torch.argmax(torch.tensor(logits), axis=1)\n",
        "    precision, recall, f1, _ = precision_recall_fscore_support(labels, predictions, average='weighted')\n",
        "    acc = accuracy_score(labels, predictions)\n",
        "    return {\"accuracy\": acc, \"precision\": precision, \"recall\": recall, \"f1\": f1}"
      ]
    },
    {
      "cell_type": "code",
      "execution_count": null,
      "id": "3f2c0312-b884-4bb5-8721-0b0b6c2ee79d",
      "metadata": {
        "id": "3f2c0312-b884-4bb5-8721-0b0b6c2ee79d"
      },
      "outputs": [],
      "source": [
        "# Create a PyTorch Dataset\n",
        "class SentimentDataset(torch.utils.data.Dataset):\n",
        "    def __init__(self, encodings, labels):\n",
        "        self.encodings = encodings\n",
        "        self.labels = labels\n",
        "\n",
        "    def __len__(self):\n",
        "        return len(self.labels)\n",
        "\n",
        "    def __getitem__(self, idx):\n",
        "        item = {key: torch.tensor(val[idx]) for key, val in self.encodings.items()}\n",
        "        item['labels'] = torch.tensor(self.labels[idx])\n",
        "        return item"
      ]
    },
    {
      "cell_type": "code",
      "execution_count": null,
      "id": "2ad36b30-a9e4-4121-9544-2dd4fa0b3ebb",
      "metadata": {
        "id": "2ad36b30-a9e4-4121-9544-2dd4fa0b3ebb",
        "outputId": "8eb71664-3fde-46d8-f1cb-6890224896be"
      },
      "outputs": [
        {
          "name": "stderr",
          "output_type": "stream",
          "text": [
            "C:\\Users\\akila\\anaconda3\\envs\\gpu_env\\lib\\site-packages\\transformers\\training_args.py:1568: FutureWarning: `evaluation_strategy` is deprecated and will be removed in version 4.46 of 🤗 Transformers. Use `eval_strategy` instead\n",
            "  warnings.warn(\n"
          ]
        }
      ],
      "source": [
        "training_args = TrainingArguments(\n",
        "    output_dir=\"./results\",\n",
        "    evaluation_strategy=\"epoch\",\n",
        "    save_strategy=\"epoch\",\n",
        "    learning_rate=2e-5,\n",
        "    per_device_train_batch_size=16,\n",
        "    per_device_eval_batch_size=16,\n",
        "    num_train_epochs=3,\n",
        "    weight_decay=0.01,\n",
        "    logging_dir='./logs',\n",
        "    logging_steps=10,\n",
        "    load_best_model_at_end=True,\n",
        "    fp16=True\n",
        ")"
      ]
    },
    {
      "cell_type": "code",
      "execution_count": null,
      "id": "55377d3e-9bbf-49fc-af3d-c21ac01720e2",
      "metadata": {
        "id": "55377d3e-9bbf-49fc-af3d-c21ac01720e2",
        "outputId": "51244d84-b8bb-49c9-aa7c-a75847d03ed4"
      },
      "outputs": [
        {
          "name": "stderr",
          "output_type": "stream",
          "text": [
            "C:\\Users\\akila\\AppData\\Local\\Temp\\ipykernel_26112\\2969086742.py:1: FutureWarning: `tokenizer` is deprecated and will be removed in version 5.0.0 for `Trainer.__init__`. Use `processing_class` instead.\n",
            "  trainer = Trainer(\n",
            "C:\\Users\\akila\\anaconda3\\envs\\gpu_env\\lib\\site-packages\\transformers\\models\\distilbert\\modeling_distilbert.py:403: UserWarning: 1Torch was not compiled with flash attention. (Triggered internally at C:\\cb\\pytorch_1000000000000\\work\\aten\\src\\ATen\\native\\transformers\\cuda\\sdp_utils.cpp:555.)\n",
            "  attn_output = torch.nn.functional.scaled_dot_product_attention(\n"
          ]
        },
        {
          "data": {
            "text/html": [
              "\n",
              "    <div>\n",
              "      \n",
              "      <progress value='10749' max='10749' style='width:300px; height:20px; vertical-align: middle;'></progress>\n",
              "      [10749/10749 1:07:16, Epoch 3/3]\n",
              "    </div>\n",
              "    <table border=\"1\" class=\"dataframe\">\n",
              "  <thead>\n",
              " <tr style=\"text-align: left;\">\n",
              "      <th>Epoch</th>\n",
              "      <th>Training Loss</th>\n",
              "      <th>Validation Loss</th>\n",
              "      <th>Accuracy</th>\n",
              "      <th>Precision</th>\n",
              "      <th>Recall</th>\n",
              "      <th>F1</th>\n",
              "    </tr>\n",
              "  </thead>\n",
              "  <tbody>\n",
              "    <tr>\n",
              "      <td>1</td>\n",
              "      <td>0.396200</td>\n",
              "      <td>0.447499</td>\n",
              "      <td>0.827856</td>\n",
              "      <td>0.828197</td>\n",
              "      <td>0.827856</td>\n",
              "      <td>0.827309</td>\n",
              "    </tr>\n",
              "    <tr>\n",
              "      <td>2</td>\n",
              "      <td>0.207800</td>\n",
              "      <td>0.302091</td>\n",
              "      <td>0.891634</td>\n",
              "      <td>0.892261</td>\n",
              "      <td>0.891634</td>\n",
              "      <td>0.891660</td>\n",
              "    </tr>\n",
              "    <tr>\n",
              "      <td>3</td>\n",
              "      <td>0.227500</td>\n",
              "      <td>0.325460</td>\n",
              "      <td>0.906985</td>\n",
              "      <td>0.907476</td>\n",
              "      <td>0.906985</td>\n",
              "      <td>0.906902</td>\n",
              "    </tr>\n",
              "  </tbody>\n",
              "</table><p>"
            ],
            "text/plain": [
              "<IPython.core.display.HTML object>"
            ]
          },
          "metadata": {},
          "output_type": "display_data"
        },
        {
          "data": {
            "text/plain": [
              "TrainOutput(global_step=10749, training_loss=0.3712027873568384, metrics={'train_runtime': 4038.179, 'train_samples_per_second': 42.587, 'train_steps_per_second': 2.662, 'total_flos': 2.278108974281933e+16, 'train_loss': 0.3712027873568384, 'epoch': 3.0})"
            ]
          },
          "execution_count": 21,
          "metadata": {},
          "output_type": "execute_result"
        }
      ],
      "source": [
        "trainer = Trainer(\n",
        "    model=model,\n",
        "    args=training_args,\n",
        "    train_dataset=train_data,\n",
        "    eval_dataset=val_data,\n",
        "    tokenizer=tokenizer,\n",
        "    compute_metrics=compute_metrics,\n",
        "    callbacks=[EarlyStoppingCallback(early_stopping_patience=2)]  # Stop if no improvement after 2 epochs\n",
        ")\n",
        "\n",
        "# Train the model\n",
        "trainer.train()"
      ]
    },
    {
      "cell_type": "code",
      "execution_count": null,
      "id": "d18329d4-1a1f-4579-81f2-1e7cb2d130e7",
      "metadata": {
        "id": "d18329d4-1a1f-4579-81f2-1e7cb2d130e7",
        "outputId": "cecf1d70-1b09-47c6-f739-b67fea6ab718"
      },
      "outputs": [
        {
          "name": "stdout",
          "output_type": "stream",
          "text": [
            "Evaluation Results: {'eval_loss': 0.30209147930145264, 'eval_accuracy': 0.8916335217360966, 'eval_precision': 0.8922611806722309, 'eval_recall': 0.8916335217360966, 'eval_f1': 0.8916598375248648, 'eval_runtime': 135.661, 'eval_samples_per_second': 105.638, 'eval_steps_per_second': 6.605, 'epoch': 3.0}\n"
          ]
        }
      ],
      "source": [
        "results = trainer.evaluate()\n",
        "print(\"Evaluation Results:\", results)"
      ]
    },
    {
      "cell_type": "code",
      "execution_count": null,
      "id": "a56f5a2c-debd-4109-80b9-d6547fccab6e",
      "metadata": {
        "id": "a56f5a2c-debd-4109-80b9-d6547fccab6e",
        "outputId": "148a1971-088d-47e0-aaff-4e90f3c02c7b"
      },
      "outputs": [
        {
          "data": {
            "text/plain": [
              "('E:/UDHAYA/Final_Project/Model./fine_tuned_distilbert\\\\tokenizer_config.json',\n",
              " 'E:/UDHAYA/Final_Project/Model./fine_tuned_distilbert\\\\special_tokens_map.json',\n",
              " 'E:/UDHAYA/Final_Project/Model./fine_tuned_distilbert\\\\vocab.txt',\n",
              " 'E:/UDHAYA/Final_Project/Model./fine_tuned_distilbert\\\\added_tokens.json')"
            ]
          },
          "execution_count": 25,
          "metadata": {},
          "output_type": "execute_result"
        }
      ],
      "source": [
        "model.save_pretrained(\"E:/UDHAYA/Final_Project/Model./fine_tuned_distilbert\")\n",
        "tokenizer.save_pretrained(\"E:/UDHAYA/Final_Project/Model./fine_tuned_distilbert\")"
      ]
    },
    {
      "cell_type": "code",
      "execution_count": null,
      "id": "37c25281-9ee4-4f65-8382-22200187dcf8",
      "metadata": {
        "id": "37c25281-9ee4-4f65-8382-22200187dcf8"
      },
      "outputs": [],
      "source": [
        "from transformers import AutoModelForSequenceClassification, AutoTokenizer\n",
        "import torch\n",
        "import torch.nn.functional as F\n",
        "\n",
        "# Load fine-tuned model and tokenizer\n",
        "model_path = \"E:/UDHAYA/Final_Project/Model./fine_tuned_distilbert\"\n",
        "model = AutoModelForSequenceClassification.from_pretrained(model_path)\n",
        "tokenizer = AutoTokenizer.from_pretrained(model_path)"
      ]
    },
    {
      "cell_type": "code",
      "execution_count": null,
      "id": "afbd12a9-c7ad-4ad7-968f-bc54c7c619ba",
      "metadata": {
        "id": "afbd12a9-c7ad-4ad7-968f-bc54c7c619ba"
      },
      "outputs": [],
      "source": [
        "def predict_sentiment(texts):\n",
        "    # Tokenize input texts\n",
        "    inputs = tokenizer(texts, return_tensors=\"pt\", padding=True, truncation=True, max_length=128)\n",
        "\n",
        "    # Get model predictions\n",
        "    with torch.no_grad():\n",
        "        outputs = model(**inputs)\n",
        "\n",
        "    # Apply softmax to get probabilities\n",
        "    probs = F.softmax(outputs.logits, dim=-1)\n",
        "\n",
        "    # Get class probabilities and format the output\n",
        "    results = []\n",
        "    for i, prob in enumerate(probs):\n",
        "        result = {\n",
        "            \"Text\": texts[i],\n",
        "            \"Probabilities\": {\n",
        "                \"Neutral\": round(prob[0].item(), 4),\n",
        "                \"Positive\": round(prob[1].item(), 4),\n",
        "                \"Negative\": round(prob[2].item(), 4)\n",
        "            }\n",
        "        }\n",
        "        results.append(result)\n",
        "    return results"
      ]
    },
    {
      "cell_type": "code",
      "execution_count": null,
      "id": "a5f94d2c-6df9-4cb0-a91a-ddb3728430a9",
      "metadata": {
        "id": "a5f94d2c-6df9-4cb0-a91a-ddb3728430a9",
        "outputId": "4b1a7193-2707-44b1-ac2e-b614ac759e1b"
      },
      "outputs": [
        {
          "name": "stdout",
          "output_type": "stream",
          "text": [
            "Text: I love this product!\n",
            "  Neutral: 0.0166\n",
            "  Positive: 0.9785\n",
            "  Negative: 0.0049\n",
            "\n",
            "Text: This is the worst experience ever.\n",
            "  Neutral: 0.0174\n",
            "  Positive: 0.0135\n",
            "  Negative: 0.9691\n",
            "\n",
            "Text: guvi has the best data science road map in industry\n",
            "  Neutral: 0.9273\n",
            "  Positive: 0.0682\n",
            "  Negative: 0.0045\n",
            "\n"
          ]
        }
      ],
      "source": [
        "texts = [\n",
        "    \"I love this product!\",\n",
        "    \"This is the worst experience ever.\",\n",
        "    \"guvi has the best data science road map in industry\"\n",
        "]\n",
        "\n",
        "predictions = predict_sentiment(texts)\n",
        "\n",
        "# Display results\n",
        "for prediction in predictions:\n",
        "    print(f\"Text: {prediction['Text']}\")\n",
        "    for sentiment, prob in prediction[\"Probabilities\"].items():\n",
        "        print(f\"  {sentiment}: {prob}\")\n",
        "    print()"
      ]
    },
    {
      "cell_type": "code",
      "execution_count": null,
      "id": "ee582a6e-9bf4-4a52-aac6-4d712af4b6ab",
      "metadata": {
        "id": "ee582a6e-9bf4-4a52-aac6-4d712af4b6ab",
        "outputId": "b728f701-58f2-477b-be73-823c76c1ab48"
      },
      "outputs": [
        {
          "name": "stdout",
          "output_type": "stream",
          "text": [
            "Collecting flask\n",
            "  Downloading flask-3.0.3-py3-none-any.whl.metadata (3.2 kB)\n",
            "Collecting Werkzeug>=3.0.0 (from flask)\n",
            "  Downloading werkzeug-3.0.6-py3-none-any.whl.metadata (3.7 kB)\n",
            "Requirement already satisfied: Jinja2>=3.1.2 in c:\\users\\akila\\anaconda3\\envs\\gpu_env\\lib\\site-packages (from flask) (3.1.4)\n",
            "Collecting itsdangerous>=2.1.2 (from flask)\n",
            "  Downloading itsdangerous-2.2.0-py3-none-any.whl.metadata (1.9 kB)\n",
            "Requirement already satisfied: click>=8.1.3 in c:\\users\\akila\\anaconda3\\envs\\gpu_env\\lib\\site-packages (from flask) (8.1.8)\n",
            "Collecting blinker>=1.6.2 (from flask)\n",
            "  Using cached blinker-1.8.2-py3-none-any.whl.metadata (1.6 kB)\n",
            "Requirement already satisfied: importlib-metadata>=3.6.0 in c:\\users\\akila\\anaconda3\\envs\\gpu_env\\lib\\site-packages (from flask) (7.0.1)\n",
            "Requirement already satisfied: colorama in c:\\users\\akila\\anaconda3\\envs\\gpu_env\\lib\\site-packages (from click>=8.1.3->flask) (0.4.6)\n",
            "Requirement already satisfied: zipp>=0.5 in c:\\users\\akila\\anaconda3\\envs\\gpu_env\\lib\\site-packages (from importlib-metadata>=3.6.0->flask) (3.20.2)\n",
            "Requirement already satisfied: MarkupSafe>=2.0 in c:\\users\\akila\\anaconda3\\envs\\gpu_env\\lib\\site-packages (from Jinja2>=3.1.2->flask) (2.1.3)\n",
            "Downloading flask-3.0.3-py3-none-any.whl (101 kB)\n",
            "Using cached blinker-1.8.2-py3-none-any.whl (9.5 kB)\n",
            "Downloading itsdangerous-2.2.0-py3-none-any.whl (16 kB)\n",
            "Downloading werkzeug-3.0.6-py3-none-any.whl (227 kB)\n",
            "Installing collected packages: Werkzeug, itsdangerous, blinker, flask\n",
            "Successfully installed Werkzeug-3.0.6 blinker-1.8.2 flask-3.0.3 itsdangerous-2.2.0\n"
          ]
        }
      ],
      "source": [
        "!pip install flask"
      ]
    },
    {
      "cell_type": "code",
      "execution_count": null,
      "id": "eab8843d-6daf-4603-8adc-053033122af5",
      "metadata": {
        "id": "eab8843d-6daf-4603-8adc-053033122af5",
        "outputId": "faeb3a58-0182-4647-bf9b-1970d3351330"
      },
      "outputs": [
        {
          "name": "stdout",
          "output_type": "stream",
          "text": [
            "Running on local URL:  http://127.0.0.1:7862\n",
            "\n",
            "Could not create share link. Please check your internet connection or our status page: https://status.gradio.app.\n"
          ]
        },
        {
          "data": {
            "text/html": [
              "<div><iframe src=\"http://127.0.0.1:7862/\" width=\"100%\" height=\"500\" allow=\"autoplay; camera; microphone; clipboard-read; clipboard-write;\" frameborder=\"0\" allowfullscreen></iframe></div>"
            ],
            "text/plain": [
              "<IPython.core.display.HTML object>"
            ]
          },
          "metadata": {},
          "output_type": "display_data"
        },
        {
          "data": {
            "text/plain": []
          },
          "execution_count": 45,
          "metadata": {},
          "output_type": "execute_result"
        },
        {
          "name": "stdout",
          "output_type": "stream",
          "text": [
            "IP: Unknown IP | Input: good morning!!! I am very HAPPY today\n",
            "IP: Unknown IP | Input: This is  a Great day!!! Good night all...\n"
          ]
        }
      ],
      "source": [
        "import gradio as gr\n",
        "import torch\n",
        "import torch.nn.functional as F\n",
        "from transformers import AutoModelForSequenceClassification, AutoTokenizer\n",
        "from flask import request\n",
        "import logging\n",
        "from datetime import datetime\n",
        "\n",
        "# Load fine-tuned model and tokenizer\n",
        "model_path = \"E:/UDHAYA/Final_Project/Model./fine_tuned_distilbert\"\n",
        "model = AutoModelForSequenceClassification.from_pretrained(model_path)\n",
        "tokenizer = AutoTokenizer.from_pretrained(model_path)\n",
        "\n",
        "# Set up logging\n",
        "logging.basicConfig(\n",
        "    filename=\"user_logs.txt\",  # Logs will be saved to this file\n",
        "    level=logging.INFO,\n",
        "    format=\"%(asctime)s - %(message)s\",\n",
        ")\n",
        "\n",
        "def log_user_details(user_ip, input_text):\n",
        "    log_message = f\"IP: {user_ip} | Input: {input_text}\"\n",
        "    logging.info(log_message)\n",
        "    print(log_message)  # Optional: Print logs for testing in Colab\n",
        "\n",
        "def predict_sentiment(text):\n",
        "    # Get user IP address (only works with Flask requests)\n",
        "    user_ip = request.remote_addr if request else \"Unknown IP\"\n",
        "    log_user_details(user_ip, text)\n",
        "\n",
        "    # Predict sentiment\n",
        "    inputs = tokenizer(text, return_tensors=\"pt\", padding=True, truncation=True, max_length=128)\n",
        "    with torch.no_grad():\n",
        "        outputs = model(**inputs)\n",
        "    probs = F.softmax(outputs.logits, dim=-1)\n",
        "    # Get class probabilities and format the output\n",
        "    result = {\n",
        "        \"Negative\": round(probs[0][2].item(), 4),\n",
        "        \"Neutral\": round(probs[0][0].item(), 4),\n",
        "        \"Positive\": round(probs[0][1].item(), 4),\n",
        "    }\n",
        "    return result\n",
        "\n",
        "iface = gr.Interface(\n",
        "    fn=predict_sentiment,\n",
        "    inputs=gr.Textbox(lines=2, placeholder=\"Enter text here...\"),\n",
        "    outputs=gr.JSON(),\n",
        "    title=\"Twitter Tweets Sentiment Analysis\",\n",
        "    description=\"Enter Tweets and get the predicted sentiment probabilities.\"\n",
        ")\n",
        "\n",
        "iface.launch(share=True)  # `share=True` creates a public URL"
      ]
    },
    {
      "cell_type": "code",
      "execution_count": null,
      "id": "0bb4e85e-9a56-40a6-b2d7-b8203df494c7",
      "metadata": {
        "id": "0bb4e85e-9a56-40a6-b2d7-b8203df494c7",
        "outputId": "6c7319e8-f418-47c5-aa90-ff967aff8648"
      },
      "outputs": [
        {
          "name": "stdout",
          "output_type": "stream",
          "text": [
            "User Logs:\n",
            "2025-01-10 20:58:58,159 - HTTP Request: GET http://127.0.0.1:7860/startup-events \"HTTP/1.1 200 OK\"\n",
            "2025-01-10 20:58:58,183 - HTTP Request: HEAD http://127.0.0.1:7860/ \"HTTP/1.1 200 OK\"\n",
            "2025-01-10 20:58:58,581 - HTTP Request: GET https://checkip.amazonaws.com/ \"HTTP/1.1 200 \"\n",
            "2025-01-10 20:58:59,146 - HTTP Request: GET https://api.gradio.app/pkg-version \"HTTP/1.1 200 OK\"\n",
            "2025-01-10 20:58:59,468 - HTTP Request: GET https://api.gradio.app/v2/tunnel-request \"HTTP/1.1 200 OK\"\n",
            "2025-01-10 20:59:00,123 - HTTP Request: GET https://cdn-media.huggingface.co/frpc-gradio-0.2/frpc_windows_amd64.exe \"HTTP/1.1 200 OK\"\n",
            "2025-01-10 21:00:30,042 - IP: Unknown IP | Input: I am peaceful!!! but not happy!\n",
            "2025-01-10 21:01:29,785 - IP: Unknown IP | Input:\n",
            "2025-01-10 21:01:37,213 - IP: Unknown IP | Input: happy!!\n",
            "2025-01-10 23:28:27,645 - HTTP Request: GET http://127.0.0.1:7861/startup-events \"HTTP/1.1 200 OK\"\n",
            "2025-01-10 23:28:27,683 - HTTP Request: HEAD http://127.0.0.1:7861/ \"HTTP/1.1 200 OK\"\n",
            "2025-01-10 23:28:28,542 - HTTP Request: GET https://api.gradio.app/pkg-version \"HTTP/1.1 200 OK\"\n",
            "2025-01-10 23:28:29,028 - HTTP Request: GET https://api.gradio.app/v2/tunnel-request \"HTTP/1.1 200 OK\"\n",
            "2025-01-10 23:29:17,586 - IP: Unknown IP | Input: I am happy to announce that i have completed my Data science course at guvi!\n",
            "2025-01-10 23:30:09,621 - IP: Unknown IP | Input: I am happy!!!\n",
            "2025-01-12 00:19:11,765 - HTTP Request: GET http://127.0.0.1:7862/startup-events \"HTTP/1.1 200 OK\"\n",
            "2025-01-12 00:19:11,781 - HTTP Request: HEAD http://127.0.0.1:7862/ \"HTTP/1.1 200 OK\"\n",
            "2025-01-12 00:19:12,928 - HTTP Request: GET https://api.gradio.app/pkg-version \"HTTP/1.1 200 OK\"\n",
            "2025-01-12 00:19:13,060 - HTTP Request: GET https://api.gradio.app/v2/tunnel-request \"HTTP/1.1 200 OK\"\n",
            "2025-01-12 00:19:34,836 - IP: Unknown IP | Input: good morning!!! I am very HAPPY today\n",
            "2025-01-12 00:36:03,608 - IP: Unknown IP | Input: This is  a Great day!!! Good night all...\n"
          ]
        }
      ],
      "source": [
        "# Read the log file and print its content\n",
        "log_file_path = \"user_logs.txt\"\n",
        "\n",
        "try:\n",
        "    with open(log_file_path, \"r\") as log_file:\n",
        "        logs = log_file.readlines()\n",
        "        print(\"User Logs:\")\n",
        "        for line in logs:\n",
        "            print(line.strip())  # Remove extra newline characters\n",
        "except FileNotFoundError:\n",
        "    print(f\"Log file '{log_file_path}' not found.\")"
      ]
    },
    {
      "cell_type": "code",
      "execution_count": null,
      "id": "3b3f042f-7514-4e00-a0a1-cf1c96d526ea",
      "metadata": {
        "id": "3b3f042f-7514-4e00-a0a1-cf1c96d526ea"
      },
      "outputs": [],
      "source": []
    }
  ],
  "metadata": {
    "kernelspec": {
      "display_name": "Python 3 (ipykernel)",
      "language": "python",
      "name": "python3"
    },
    "language_info": {
      "codemirror_mode": {
        "name": "ipython",
        "version": 3
      },
      "file_extension": ".py",
      "mimetype": "text/x-python",
      "name": "python",
      "nbconvert_exporter": "python",
      "pygments_lexer": "ipython3",
      "version": "3.8.20"
    },
    "colab": {
      "provenance": [],
      "include_colab_link": true
    }
  },
  "nbformat": 4,
  "nbformat_minor": 5
}